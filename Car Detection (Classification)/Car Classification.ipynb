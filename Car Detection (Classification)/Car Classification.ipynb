{
 "cells": [
  {
   "cell_type": "code",
   "execution_count": 3,
   "metadata": {},
   "outputs": [
    {
     "name": "stdout",
     "output_type": "stream",
     "text": [
      "Collecting imageai==2.0.2\n",
      "  Downloading https://github.com/OlafenwaMoses/ImageAI/releases/download/2.0.2/imageai-2.0.2-py3-none-any.whl (151 kB)\n",
      "Installing collected packages: imageai\n",
      "Successfully installed imageai-2.0.2\n"
     ]
    }
   ],
   "source": [
    "!pip install https://github.com/OlafenwaMoses/ImageAI/releases/download/2.0.2/imageai-2.0.2-py3-none-any.whl"
   ]
  },
  {
   "cell_type": "code",
   "execution_count": 7,
   "metadata": {},
   "outputs": [],
   "source": [
    "from imageai.Prediction import ImagePrediction\n",
    "import os\n",
    "execution_path = os.getcwd()\n",
    "prediction = ImagePrediction()\n",
    "prediction.setModelTypeAsResNet()\n",
    "prediction.setModelPath(\"D:/downloads/resnet50_weights_tf_dim_ordering_tf_kernels.h5\") #path of model using\n",
    "prediction.loadModel()\n"
   ]
  },
  {
   "cell_type": "code",
   "execution_count": 13,
   "metadata": {},
   "outputs": [
    {
     "name": "stdout",
     "output_type": "stream",
     "text": [
      "tow_truck  :  37.47221231460571\n",
      "trailer_truck  :  31.01538121700287\n",
      "moving_van  :  8.356660604476929\n",
      "snowplow  :  7.881765812635422\n",
      "pickup  :  5.125515908002853\n"
     ]
    }
   ],
   "source": [
    "predictions, percentage_probabilities = prediction.predictImage(\"C:/Users/PRADNYA/Desktop/sample.png\", result_count=5) #path of image to be predict (detect)\n",
    "for index in range(len(predictions)):\n",
    "    print(predictions[index] , \" : \" , percentage_probabilities[index])"
   ]
  },
  {
   "cell_type": "code",
   "execution_count": 10,
   "metadata": {},
   "outputs": [
    {
     "name": "stdout",
     "output_type": "stream",
     "text": [
      "sports_car  :  98.98674488067627\n",
      "racer  :  0.5992094054818153\n",
      "convertible  :  0.2636321820318699\n",
      "car_wheel  :  0.085313874296844\n",
      "grille  :  0.03957698936574161\n"
     ]
    }
   ],
   "source": [
    "predictions, percentage_probabilities = prediction.predictImage(\"C:/Users/PRADNYA/Desktop/car2.png\", result_count=5)\n",
    "for index in range(len(predictions)):\n",
    "    print(predictions[index] , \" : \" , percentage_probabilities[index])"
   ]
  },
  {
   "cell_type": "code",
   "execution_count": 14,
   "metadata": {},
   "outputs": [
    {
     "name": "stdout",
     "output_type": "stream",
     "text": [
      "sports_car  :  52.34628915786743\n",
      "racer  :  31.18700683116913\n",
      "cab  :  9.886538237333298\n",
      "car_wheel  :  1.6598612070083618\n",
      "school_bus  :  1.0965771973133087\n"
     ]
    }
   ],
   "source": [
    "predictions, percentage_probabilities = prediction.predictImage(\"C:/Users/PRADNYA/Desktop/car.png\", result_count=5)\n",
    "for index in range(len(predictions)):\n",
    "    print(predictions[index] , \" : \" , percentage_probabilities[index])"
   ]
  },
  {
   "cell_type": "code",
   "execution_count": 15,
   "metadata": {},
   "outputs": [
    {
     "name": "stdout",
     "output_type": "stream",
     "text": [
      "cab  :  36.242008209228516\n",
      "minivan  :  20.814257860183716\n",
      "pickup  :  10.350003838539124\n",
      "beach_wagon  :  7.454870641231537\n",
      "car_wheel  :  5.61993233859539\n"
     ]
    }
   ],
   "source": [
    "predictions, percentage_probabilities = prediction.predictImage(\"C:/Users/PRADNYA/Desktop/car1.png\", result_count=5)\n",
    "for index in range(len(predictions)):\n",
    "    print(predictions[index] , \" : \" , percentage_probabilities[index])"
   ]
  },
  {
   "cell_type": "code",
   "execution_count": null,
   "metadata": {},
   "outputs": [],
   "source": []
  }
 ],
 "metadata": {
  "kernelspec": {
   "display_name": "Python 3",
   "language": "python",
   "name": "python3"
  },
  "language_info": {
   "codemirror_mode": {
    "name": "ipython",
    "version": 3
   },
   "file_extension": ".py",
   "mimetype": "text/x-python",
   "name": "python",
   "nbconvert_exporter": "python",
   "pygments_lexer": "ipython3",
   "version": "3.7.7"
  }
 },
 "nbformat": 4,
 "nbformat_minor": 4
}
